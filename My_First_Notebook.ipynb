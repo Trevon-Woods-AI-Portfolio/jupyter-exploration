{
  "nbformat": 4,
  "nbformat_minor": 0,
  "metadata": {
    "colab": {
      "provenance": []
    },
    "kernelspec": {
      "name": "python3",
      "display_name": "Python 3"
    },
    "language_info": {
      "name": "python"
    }
  },
  "cells": [
    {
      "cell_type": "markdown",
      "source": [
        "# Joke Generator!\n"
      ],
      "metadata": {
        "id": "AumBhS9Idtnf"
      }
    },
    {
      "cell_type": "code",
      "execution_count": null,
      "metadata": {
        "id": "0xgKDfT9dRDY",
        "colab": {
          "base_uri": "https://localhost:8080/"
        },
        "outputId": "77124522-3628-4f05-cae8-3ef673edc12f"
      },
      "outputs": [
        {
          "output_type": "stream",
          "name": "stdout",
          "text": [
            "Do you want to hear a joke? (yes/no): yes\n",
            "Why did the tomato turn red?\n",
            "Ask why :D : why?\n",
            "Because it saw the salad dressing!\n"
          ]
        }
      ],
      "source": [
        "import random\n",
        "\n",
        "Jokes = [\n",
        "    (\"Why did the chicken cross the road?\", \"To get to the other side!\"),\n",
        "    (\"What do you call a fake noodle?\", \"An impasta!\"),\n",
        "    (\"Why did the scarecrow win an award?\", \"Because he was outstanding in his field!\"),\n",
        "    (\"What do you call a bear with no teeth?\", \"A gummy bear!\"),\n",
        "    (\"Why did the bicycle fall over?\", \"Because it was two-tired!\"),\n",
        "    (\"What do you call a fish with no eyes?\", \"A fsh!\"),\n",
        "    (\"Why did the tomato turn red?\", \"Because it saw the salad dressing!\"),\n",
        "    ]\n",
        "\n",
        "answer = input(\"Do you want to hear a joke? (yes/no): \")\n",
        "\n",
        "if (answer.lower() == \"yes\"):\n",
        "  joke = random.choice(Jokes)\n",
        "  print(joke[0])\n",
        "  go = input(\"Ask why :D : \")\n",
        "\n",
        "  if (go):\n",
        "    print(joke[1])\n",
        "else:\n",
        "  print(\"Ok, bye!\")\n"
      ]
    }
  ]
}